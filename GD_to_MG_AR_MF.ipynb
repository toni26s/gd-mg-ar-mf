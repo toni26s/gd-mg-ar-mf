{
  "nbformat": 4,
  "nbformat_minor": 0,
  "metadata": {
    "colab": {
      "name": "GD to MG - AR - MF",
      "provenance": [],
      "toc_visible": true,
      "collapsed_sections": [
        "d5hl5kzkUiEC",
        "miNtO4IYQoQr",
        "Su-2PVwNT82o",
        "e1UtaIrjVE2A",
        "k1R3pNxNWLkT",
        "OaeGn5CnUnu_",
        "9i5kblbOVYqX"
      ]
    },
    "kernelspec": {
      "name": "python3",
      "display_name": "Python 3"
    },
    "language_info": {
      "name": "python"
    }
  },
  "cells": [
    {
      "cell_type": "markdown",
      "source": [
        "#__Mount storage drive with Rclone__"
      ],
      "metadata": {
        "id": "d5hl5kzkUiEC"
      }
    },
    {
      "cell_type": "code",
      "source": [
        "#@markdown <h3>←📝 Upload an rclone config <i>(rclone.conf)</i></h3>\n",
        "#@markdown <h4><i>Note: Run this before using Rclone</i></4>\n",
        "Setup_Time_Zone = False \n",
        "\n",
        "import os; from google.colab import files; from IPython.display import HTML, clear_output\n",
        "\n",
        "def upload_conf():\n",
        "  try:\n",
        "    display(HTML(\"<h2 style=\\\"font-family:Trebuchet MS;color:#446785;\\\">Please upload the config file of rclone (rclone.conf) from your computer.</h2><br>\"))\n",
        "    UploadConfig = files.upload().keys()\n",
        "    clear_output(wait=True)\n",
        "    if len(UploadConfig) == 0:\n",
        "      return display(HTML(\"<center><h2 style=\\\"font-family:Trebuchet MS;color:#ce2121;\\\">File upload has been cancelled during upload file.</h2><br></center>\"))\n",
        "    elif len(UploadConfig) == 1:\n",
        "      for fn in UploadConfig:\n",
        "        if os.path.isfile(\"/content/\" + fn) == True:\n",
        "          os.environ[\"rclone_conf\"] = fn\n",
        "          !mv -f \"$rclone_conf\" /root/.rclone.conf\n",
        "          !chmod 666 /root/.rclone.conf\n",
        "          if Setup_Time_Zone == True:\n",
        "            !sudo dpkg-reconfigure tzdata\n",
        "            clear_output(wait=True)\n",
        "          if os.path.isfile(\"/usr/bin/rclone\") == True:\n",
        "            return display(HTML(\"<center><h2 style=\\\"font-family:Trebuchet MS;color:#00b24c;\\\">Config has been changed.</h2><br></center>\"))\n",
        "          else:\n",
        "            !rm -rf /content/sample_data/\n",
        "            !curl -s https://rclone.org/install.sh | sudo bash\n",
        "            clear_output(wait=True)\n",
        "            return display(HTML(\"<center><h2 style=\\\"font-family:Trebuchet MS;color:#446785;\\\">Installation has been successfully completed.</h2><br></center>\"))\n",
        "        else:\n",
        "          return display(HTML(\"<center><h2 style=\\\"font-family:Trebuchet MS;color:#ce2121;\\\">File upload has been failed during upload file.</h2><br></center>\"))\n",
        "    else:\n",
        "      for fn in UploadConfig:\n",
        "        os.environ[\"rclone_conf\"] = fn\n",
        "        !rm -f \"$rclone_conf\"\n",
        "      return display(HTML(\"<center><h2 style=\\\"font-family:Trebuchet MS;color:#ce2121;\\\">Please uploading only one file at a time.</h2><br></center>\"))\n",
        "  except:\n",
        "    clear_output(wait=True)\n",
        "    return display(HTML(\"<center><h2 style=\\\"font-family:Trebuchet MS;color:#ce2121;\\\">Error occurred during upload file.</h2><br></center>\"))\n",
        "\n",
        "upload_conf()"
      ],
      "metadata": {
        "cellView": "form",
        "id": "LPLgspjXUoh2"
      },
      "execution_count": null,
      "outputs": []
    },
    {
      "cell_type": "code",
      "source": [
        "# ============================= FORM ============================= #\n",
        "#@markdown <h3>←📝 Run this to mount the drive with rclone</h3>\n",
        "rclone_config_name = \"YourDrive\" #@param {type:\"string\"}\n",
        "local_mount_location = \"/content/udrive1/\" #@param {type:\"string\"}\n",
        "# ============================= FORM ============================= #\n",
        "\n",
        "import time\n",
        "import os\n",
        "\n",
        "# clear nohup\n",
        "open(\"nohup.out\", 'w').close()\n",
        "\n",
        "\n",
        "# unmount first\n",
        "\n",
        "!fusermount -u $local_mount_location 2>/dev/null\n",
        "\n",
        "\n",
        "# mount without waiting for the command to complete\n",
        "!mkdir $local_mount_location 2>/dev/null\n",
        "!nohup rclone mount $rclone_config_name: $local_mount_location --buffer-size 96M & \n",
        "  \n",
        "\n",
        "\n",
        "# Show the output that was written to nohup\n",
        "time.sleep(3)\n",
        "f = open(r\"nohup.out\", \"r\")\n",
        "nohupText = f.read()\n",
        "f.close()\n",
        "\n",
        "\n",
        "dirs = os.listdir(local_mount_location)\n",
        "\n",
        "if len(dirs) > 0:\n",
        "  clear_output(wait=True)\n",
        "  print(\"Succeeded. \", str(len(dirs)), \"dirs found at\", local_mount_location)\n",
        "\n",
        "else:\n",
        "  print(\"\\n\\nNot succeeded. No files or directories in mounted location. \\nCheck your config name and content. If the rclone command was not found, run the cell above.\\n\\n\")\n",
        "  print(\"log:\\n\", nohupText)"
      ],
      "metadata": {
        "cellView": "form",
        "id": "OMaRmxpkUtQs"
      },
      "execution_count": null,
      "outputs": []
    },
    {
      "cell_type": "markdown",
      "source": [
        "#__Mount with Google Drive File Stream__"
      ],
      "metadata": {
        "id": "miNtO4IYQoQr"
      }
    },
    {
      "cell_type": "code",
      "source": [
        "#@markdown <h3>Mount GDrive to /content/drive</h3><br>\n",
        "MODE = \"MOUNT\" #@param [\"MOUNT\", \"UNMOUNT\"]\n",
        "#Mount your Gdrive! \n",
        "from google.colab import drive\n",
        "drive.mount._DEBUG = False\n",
        "if MODE == \"MOUNT\":\n",
        "  drive.mount('/content/drive', force_remount=True)\n",
        "elif MODE == \"UNMOUNT\":\n",
        "  try:\n",
        "    drive.flush_and_unmount()\n",
        "  except ValueError:\n",
        "    pass\n",
        "  get_ipython().system_raw(\"rm -rf /root/.config/Google/DriveFS\")"
      ],
      "metadata": {
        "cellView": "form",
        "id": "DvLvDxgGQpEr"
      },
      "execution_count": null,
      "outputs": []
    },
    {
      "cell_type": "markdown",
      "source": [
        "# **<font color='blue'>__Google Drive to MEGA file transfer__</font>**\n",
        "# <img src='https://i.ibb.co/drrqpm2/pcgamescollections2021-google-drive-to-mega.png' height=\"60\" alt=\"MEGA-logo\"/>"
      ],
      "metadata": {
        "id": "Su-2PVwNT82o"
      }
    },
    {
      "cell_type": "code",
      "source": [
        "# @markdown <h3>Input your Mega Id and Password</h3><br>\n",
        "\n",
        "\n",
        "from functools import wraps\n",
        "import errno\n",
        "import os\n",
        "import signal\n",
        "import subprocess\n",
        "import shlex\n",
        "\n",
        "\n",
        "class TimeoutError(Exception):\n",
        "    pass\n",
        "\n",
        "\n",
        "def timeout(seconds=10, error_message=os.strerror(errno.ETIME)):\n",
        "    def decorator(func):\n",
        "        def _handle_timeout(signum, frame):\n",
        "            raise TimeoutError(error_message)\n",
        "\n",
        "        def wrapper(*args, **kwargs):\n",
        "            signal.signal(signal.SIGALRM, _handle_timeout)\n",
        "            signal.alarm(seconds)\n",
        "            try:\n",
        "                result = func(*args, **kwargs)\n",
        "            finally:\n",
        "                signal.alarm(0)\n",
        "            return result\n",
        "\n",
        "        return wraps(func)(wrapper)\n",
        "\n",
        "    return decorator\n",
        "\n",
        "\n",
        "if not os.path.exists(\"/root/.ipython/ocr.py\"):\n",
        "    from subprocess import run\n",
        "    from shlex import split\n",
        "\n",
        "    shellCmd = \"wget -qq https://raw.githubusercontent.com/biplobsd/OneClickRun/master/res/ocr.py \\\n",
        "                    -O /root/.ipython/ocr.py\"\n",
        "    run(split(shellCmd))\n",
        "from ocr import runSh\n",
        "\n",
        "@timeout(10)\n",
        "def runShT(args):\n",
        "    return runSh(args, output=True)\n",
        "\n",
        "\n",
        "# MEGAcmd installing\n",
        "if not os.path.exists(\"/usr/bin/mega-cmd\"):\n",
        "    print(\"Installing MEGA ...\")\n",
        "    runSh('sudo apt-get -y update')\n",
        "    runSh('sudo apt-get -y install libmms0 libc-ares2 libc6 libcrypto++6 libgcc1 libmediainfo0v5 libpcre3 libpcrecpp0v5 libssl1.1 libstdc++6 libzen0v5 zlib1g apt-transport-https')\n",
        "    runSh('sudo curl -sL -o /var/cache/apt/archives/MEGAcmd.deb https://mega.nz/linux/MEGAsync/Debian_9.0/amd64/megacmd-Debian_9.0_amd64.deb', output=True)\n",
        "    runSh('sudo dpkg -i /var/cache/apt/archives/MEGAcmd.deb', output=True)\n",
        "    print(\"MEGA is installed.\")\n",
        "else:\n",
        "    !pkill mega-cmd\n",
        "\n",
        "# INPUT YOUR MEGA ID\n",
        "\n",
        "USERNAME = \"your email.com\"  # @param {type:\"string\"}\n",
        "PASSWORD = \"your password\"  # @param {type:\"string\"}\n",
        "if not (USERNAME == \"\" or PASSWORD == \"\"):\n",
        "    try:\n",
        "        runShT(f\"mega-login {USERNAME} {PASSWORD}\")\n",
        "    except TimeoutError:\n",
        "        runSh('mega-whoami', output=True)\n",
        "else:\n",
        "    print(\"Please Input your Mega IDs.\")\n"
      ],
      "metadata": {
        "cellView": "form",
        "id": "gd3MtHHRT93_"
      },
      "execution_count": null,
      "outputs": []
    },
    {
      "cell_type": "code",
      "source": [
        "\n",
        "# @markdown <h3>←TRANSFER NOW</h3><br>\n",
        "# TRANSFER NOW\n",
        "\n",
        "import time\n",
        "import subprocess\n",
        "import contextlib\n",
        "from IPython.display import clear_output\n",
        "\n",
        "PATH_TO_FILE = \"/content/drive/\"  # @param {type:\"string\"}\n",
        "# Unix, Windows and old Macintosh end-of-line\n",
        "newlines = ['\\n', '\\r\\n', '\\r']\n",
        "\n",
        "\n",
        "def unbuffered(proc, stream='stdout'):\n",
        "    stream = getattr(proc, stream)\n",
        "    with contextlib.closing(stream):\n",
        "        while True:\n",
        "            out = []\n",
        "            last = stream.read(1)\n",
        "            # Don't loop forever\n",
        "            if last == '' and proc.poll() is not None:\n",
        "                break\n",
        "            while last not in newlines:\n",
        "                # Don't loop forever\n",
        "                if last == '' and proc.poll() is not None:\n",
        "                    break\n",
        "                out.append(last)\n",
        "                last = stream.read(1)\n",
        "            out = ''.join(out)\n",
        "            yield out\n",
        "\n",
        "\n",
        "def transfare():\n",
        "    cmd = ['mega-put', PATH_TO_FILE, '/colab']\n",
        "    proc = subprocess.Popen(\n",
        "        cmd,\n",
        "        stdout=subprocess.PIPE,\n",
        "        stderr=subprocess.STDOUT,\n",
        "        # Make all end-of-lines '\\n'\n",
        "        universal_newlines=True,\n",
        "    )\n",
        "    for line in unbuffered(proc):\n",
        "        clear_output(wait=True)\n",
        "        print(line)\n",
        "\n",
        "try:\n",
        "    transfare()\n",
        "except FileNotFoundError:\n",
        "    print(\"Login your account!\")\n"
      ],
      "metadata": {
        "cellView": "form",
        "id": "o4BB4tAgUCVX"
      },
      "execution_count": null,
      "outputs": []
    },
    {
      "cell_type": "code",
      "source": [
        "# @markdown <h3>←LOGOUT</h3><br>\n",
        "\n",
        "!mega-logout"
      ],
      "metadata": {
        "cellView": "form",
        "id": "9ZyDOaIOWdR0"
      },
      "execution_count": null,
      "outputs": []
    },
    {
      "cell_type": "markdown",
      "source": [
        "# **<font color='blue'>__ARCHIVE.ORG UPLOADER__</font>**"
      ],
      "metadata": {
        "id": "e1UtaIrjVE2A"
      }
    },
    {
      "cell_type": "code",
      "source": [
        "#@markdown <h3>←INSTALL INTERNETARCHIVE</h3>\n",
        "!pip install internetarchive\n",
        "!curl -LO https://archive.org/download/ia-pex/ia\n",
        "!chmod +x ia"
      ],
      "metadata": {
        "cellView": "form",
        "id": "ZZ04JBGoVOEx"
      },
      "execution_count": null,
      "outputs": []
    },
    {
      "cell_type": "code",
      "source": [
        "#@markdown <h3>←INPUT CREDENTIALS</h3>\n",
        "!ia configure"
      ],
      "metadata": {
        "cellView": "form",
        "id": "tRBXUmgqVSI0"
      },
      "execution_count": null,
      "outputs": []
    },
    {
      "cell_type": "code",
      "source": [
        "#@markdown <h3>←START UPLOAD</h3>\n",
        "File_path = \"\" #@param {type:\"string\"}\n",
        "Identifier = \"ABCDEXZYWV\" #@param {type:\"string\"}\n",
        "media_type = \"movies\" #@param [\"movies\", \"documents\"]\n",
        "!ia upload {Identifier} {File_path} --metadata=\"mediatype:{media_type}\" --retries 10"
      ],
      "metadata": {
        "cellView": "form",
        "id": "m5vIUoYWVW-v"
      },
      "execution_count": null,
      "outputs": []
    },
    {
      "cell_type": "markdown",
      "source": [
        "# **<font color='blue'>__MEDIAFIRE UPLOADER__</font>**"
      ],
      "metadata": {
        "id": "k1R3pNxNWLkT"
      }
    },
    {
      "cell_type": "code",
      "source": [
        "#@markdown <h3>👈 Run this cell to install requirements</h3>\n",
        "!echo -n \"Installing mediafire-ul...\" && mkdir -p sample_data/mediafire-ul &> /dev/null && git clone https://github.com/JayBrown/mfcmd.py---MediaFire-uploader.git sample_data/mediafire-ul &> /dev/null && pip install pymediafire &> /dev/null && pip install mediafire &> /dev/null && echo \" Done!\"\n"
      ],
      "metadata": {
        "cellView": "form",
        "id": "SPz3aSWTWRVe"
      },
      "execution_count": null,
      "outputs": []
    },
    {
      "cell_type": "code",
      "source": [
        "#@markdown <h3>⬆️ MediaFire Uploader</h3>\n",
        "#@markdown The MediaFire API is pretty buggy, and you might receive an error, because the server hasn't finished calculating the file's checksum yet; in that case, wait a couple of seconds (depending on the filesize) and repeat the command: it will not upload, but instead detect the already uploaded file and return the download URL.\n",
        "Email_Address = \"\" #@param {type:\"string\"}\n",
        "Password = \"\" #@param {type:\"string\"}\n",
        "File_path = \"\" #@param {type:\"string\"}\n",
        "mfemail, mfpassword = Email_Address, Password\n",
        "\n",
        "def get_file_info(filepath):\n",
        "  splited = filepath.split(\"/\")\n",
        "  filename=splited[-1]\n",
        "  pathname=\"/\".join(splited[0:-1])\n",
        "  return filename, pathname\n",
        "\n",
        "filename, pathname = get_file_info(File_path)\n",
        "print(\"Uploading\", filename+\"...\")\n",
        "!cd /content/sample_data/mediafire-ul && python3 mfcmd.py -e $mfemail -p $mfpassword -f $File_path 2>/dev/null\n",
        "print(\"Done!\")"
      ],
      "metadata": {
        "cellView": "form",
        "id": "qT21uV4GWWbb"
      },
      "execution_count": null,
      "outputs": []
    },
    {
      "cell_type": "markdown",
      "source": [
        "# <img src=\"https://img.icons8.com/dotty/80/000000/archive.png\" height=\"45\" align=\"left\" alt=\"\"/><img src=\"\" height=\"45\" align=\"left\" alt=\"\"/><b><font size=6>Create / Extract Archive</font></b>"
      ],
      "metadata": {
        "id": "OaeGn5CnUnu_"
      }
    },
    {
      "cell_type": "markdown",
      "source": [
        "##__Rar Files/Folders__"
      ],
      "metadata": {
        "id": "9i5kblbOVYqX"
      }
    },
    {
      "cell_type": "code",
      "source": [
        "# @markdown <h3>←INSTALL RAR</h3><br>\n",
        "!apt-get install rar"
      ],
      "metadata": {
        "cellView": "form",
        "id": "kgX5j2KbVcN2"
      },
      "execution_count": null,
      "outputs": []
    },
    {
      "cell_type": "code",
      "source": [
        "# @markdown <h3>←CREATE ARCHIVE</h3><br>\n",
        "Input_File_or_Folder_Path = \"\"  # @param {type:\"string\"}\n",
        "Output_File_Name = \"\"  # @param {type:\"string\"}\n",
        "Split_Volume = \"0\"  # @param {type:\"string\"}\n",
        "\n",
        "!rar a -v{Split_Volume}m \"{Input_File_or_Folder_Path}/{Output_File_Name}\" \"{Input_File_or_Folder_Path}\"\n",
        "\n",
        "#@markdown #####_*Split_Volume Sample:_\n",
        "#@markdown #####_100 = 100 MegaBytes._"
      ],
      "metadata": {
        "cellView": "form",
        "id": "77b3uyOjV24W"
      },
      "execution_count": null,
      "outputs": []
    }
  ]
}